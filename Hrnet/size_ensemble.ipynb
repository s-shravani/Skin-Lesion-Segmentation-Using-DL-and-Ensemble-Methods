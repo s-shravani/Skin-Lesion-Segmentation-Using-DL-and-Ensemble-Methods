{
 "cells": [
  {
   "cell_type": "code",
   "execution_count": 1,
   "id": "0c0cb753",
   "metadata": {},
   "outputs": [
    {
     "name": "stdout",
     "output_type": "stream",
     "text": [
      "Ensemble predictions shape: (10, 1, 256, 256, 256)\n"
     ]
    }
   ],
   "source": [
    "import numpy as np\n",
    "\n",
    "# Load the ensemble predictions\n",
    "ensemble_predictions = np.load('/Users/shravanisajekar/Downloads/ensemble_predictions.npy')\n",
    "\n",
    "# Print the dimensions of the ensemble predictions array\n",
    "print(\"Ensemble predictions shape:\", ensemble_predictions.shape)\n"
   ]
  },
  {
   "cell_type": "code",
   "execution_count": null,
   "id": "573a53fb",
   "metadata": {},
   "outputs": [],
   "source": []
  }
 ],
 "metadata": {
  "kernelspec": {
   "display_name": "Python 3",
   "language": "python",
   "name": "python3"
  },
  "language_info": {
   "codemirror_mode": {
    "name": "ipython",
    "version": 3
   },
   "file_extension": ".py",
   "mimetype": "text/x-python",
   "name": "python",
   "nbconvert_exporter": "python",
   "pygments_lexer": "ipython3",
   "version": "3.8.16"
  }
 },
 "nbformat": 4,
 "nbformat_minor": 5
}
