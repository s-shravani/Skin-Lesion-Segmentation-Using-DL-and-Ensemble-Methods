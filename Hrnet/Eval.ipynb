{
 "cells": [
  {
   "cell_type": "code",
   "execution_count": 1,
   "id": "ae2ca267-7caf-4c3a-b880-68a410ba935d",
   "metadata": {},
   "outputs": [],
   "source": [
    "from keras.models import Model\n",
    "from keras.layers import Input, concatenate, Conv2D, MaxPooling2D, UpSampling2D, Conv2DTranspose\n",
    "from keras.optimizers import Adam\n",
    "import numpy as np\n",
    "import os\n",
    "import matplotlib.pyplot as plt\n",
    "# from sklearn.metrics import roc_curve, roc_auc_score, confusion_matrix, precision_recall_curve, jaccard_score, f1_score\n",
    "from PIL import Image\n"
   ]
  },
  {
   "cell_type": "code",
   "execution_count": 2,
   "id": "dc52ee38-a655-4fda-8c92-2e0953ba1a89",
   "metadata": {},
   "outputs": [],
   "source": [
    "# Define the model architecture\n",
    "def BCDU_net_D3(input_tensor=None):\n",
    "    if input_tensor is None:\n",
    "        inputs = Input(shape=(256, 256, 3))\n",
    "    else:\n",
    "        inputs = input_tensor\n",
    "\n",
    "    conv1 = Conv2D(64, (3, 3), activation='relu', padding='same')(inputs)\n",
    "    conc1 = concatenate([inputs, conv1], axis=3)\n",
    "    conv1 = Conv2D(64, (3, 3), activation='relu', padding='same')(conc1)\n",
    "    pool1 = MaxPooling2D(pool_size=(2, 2))(conv1)\n",
    "\n",
    "    conv2 = Conv2D(128, (3, 3), activation='relu', padding='same')(pool1)\n",
    "    conc2 = concatenate([pool1, conv2], axis=3)\n",
    "    conv2 = Conv2D(128, (3, 3), activation='relu', padding='same')(conc2)\n",
    "    pool2 = MaxPooling2D(pool_size=(2, 2))(conv2)\n",
    "\n",
    "    conv3 = Conv2D(256, (3, 3), activation='relu', padding='same')(pool2)\n",
    "    conc3 = concatenate([pool2, conv3], axis=3)\n",
    "    conv3 = Conv2D(256, (3, 3), activation='relu', padding='same')(conc3)\n",
    "    pool3 = MaxPooling2D(pool_size=(2, 2))(conv3)\n",
    "\n",
    "    conv4 = Conv2D(512, (3, 3), activation='relu', padding='same')(pool3)\n",
    "    conc4 = concatenate([pool3, conv4], axis=3)\n",
    "    conv4 = Conv2D(512, (3, 3), activation='relu', padding='same')(conc4)\n",
    "    pool4 = MaxPooling2D(pool_size=(2, 2))(conv4)\n",
    "\n",
    "    conv5 = Conv2D(1024, (3, 3), activation='relu', padding='same')(pool4)\n",
    "\n",
    "    conv5 = Conv2D(512, (3, 3), activation='relu', padding='same')(conv5)\n",
    "\n",
    "    up6 = concatenate([Conv2DTranspose(256, (2, 2), strides=(2, 2), padding='same')(conv5), conv4], axis=3)\n",
    "    conv6 = Conv2D(512, (3, 3), activation='relu', padding='same')(up6)\n",
    "    conv6 = Conv2D(512, (3, 3), activation='relu', padding='same')(conv6)\n",
    "\n",
    "    up7 = concatenate([Conv2DTranspose(128, (2, 2), strides=(2, 2), padding='same')(conv6), conv3], axis=3)\n",
    "    conv7 = Conv2D(256, (3, 3), activation='relu', padding='same')(up7)\n",
    "    conv7 = Conv2D(256, (3, 3), activation='relu', padding='same')(conv7)\n",
    "\n",
    "    up8 = concatenate([Conv2DTranspose(64, (2, 2), strides=(2, 2), padding='same')(conv7), conv2], axis=3)\n",
    "    conv8 = Conv2D(128, (3, 3), activation='relu', padding='same')(up8)\n",
    "    conv8 = Conv2D(128, (3, 3), activation='relu', padding='same')(conv8)\n",
    "\n",
    "    up9 = concatenate([Conv2DTranspose(32, (2, 2), strides=(2, 2), padding='same')(conv8), conv1], axis=3)\n",
    "    conv9 = Conv2D(64, (3, 3), activation='relu', padding='same')(up9)\n",
    "    conv9 = Conv2D(64, (3, 3), activation='relu', padding='same')(conv9)\n",
    "\n",
    "    conv10 = Conv2D(1, (1, 1), activation='sigmoid')(conv9)\n",
    "\n",
    "    model = Model(inputs=[inputs], outputs=[conv10])\n",
    "\n",
    "    return model"
   ]
  },
  {
   "cell_type": "code",
   "execution_count": 3,
   "id": "ad93d8dc-ed49-4504-9be0-5082e72453c3",
   "metadata": {},
   "outputs": [],
   "source": [
    "# Function to preprocess the user input image\n",
    "def preprocess_input_image(image_path):\n",
    "    img = Image.open(image_path)\n",
    "    img = img.resize((256, 256))\n",
    "    img_array = np.array(img)\n",
    "    img_array = img_array / 255.0  # Normalize the image\n",
    "    return img_array\n"
   ]
  },
  {
   "cell_type": "code",
   "execution_count": 5,
   "id": "b2da1856-f5ec-4b07-b66a-71a5d2469fd4",
   "metadata": {},
   "outputs": [],
   "source": [
    "# Load the trained model weights\n",
    "model = BCDU_net_D3()\n",
    "model.load_weights('weight_isic18')\n",
    "# Create the folder to save predicted images if it doesn't exist\n",
    "predicted_images_folder = 'predicted_images'\n",
    "if not os.path.exists(predicted_images_folder):\n",
    "    os.makedirs(predicted_images_folder)"
   ]
  },
  {
   "cell_type": "code",
   "execution_count": 10,
   "id": "87b71eb6-93e0-4f21-b19c-68a0ff56e663",
   "metadata": {},
   "outputs": [],
   "source": [
    "\n",
    "# Function to predict mask for user input image and save it\n",
    "def predict_and_save_mask(image_path, model, save_folder):\n",
    "    img = preprocess_input_image(image_path)\n",
    "    img = np.expand_dims(img, axis=0)  # Add batch dimension\n",
    "    mask = model.predict(img)[0]  # Remove batch dimension\n",
    "    mask_image = (mask.squeeze() * 255).astype(np.uint8)\n",
    "    # Display the predicted mask image\n",
    "    plt.imshow(mask_image, cmap='gray')\n",
    "    plt.title(\"Predicted Mask of Input Image:\\n\")\n",
    "    plt.axis('off')\n",
    "    plt.show()\n",
    "    # Save the predicted mask image\n",
    "    image_name = os.path.basename(image_path)\n",
    "    mask_image_path = os.path.join(save_folder, f'{image_name.split(\".\")[0]}_mask.png')\n",
    "    Image.fromarray(mask_image).save(mask_image_path)\n",
    "    print(f\"Predicted mask saved at: {mask_image_path}\")"
   ]
  },
  {
   "cell_type": "code",
   "execution_count": 11,
   "id": "b9990362-d2a6-4eb8-819c-61fab2a2ed3a",
   "metadata": {},
   "outputs": [
    {
     "name": "stdout",
     "output_type": "stream",
     "text": [
      "Enter the Image Path:\n",
      "/Users/shravanisajekar/Desktop/dataset/ISIC2018_Task1-2_Validation_Input/ISIC_0023678.jpg\n",
      "1/1 [==============================] - 0s 40ms/step\n"
     ]
    },
    {
     "data": {
      "image/png": "[encoded data removed]",
      "text/plain": [
       "<Figure size 432x288 with 1 Axes>"
      ]
     },
     "metadata": {
      "needs_background": "light"
     },
     "output_type": "display_data"
    },
    {
     "name": "stdout",
     "output_type": "stream",
     "text": [
      "Predicted mask saved at: predicted_images/ISIC_0023678_mask.png\n"
     ]
    }
   ],
   "source": [
    "# Example usage:\n",
    "input_image_path = input(\"Enter the Image Path:\\n\")\n",
    "predict_and_save_mask(input_image_path, model, predicted_images_folder)"
   ]
  },
  {
   "cell_type": "code",
   "execution_count": null,
   "id": "c6756ff7-09d7-4bab-9cdc-1dc4bb2e12a4",
   "metadata": {},
   "outputs": [],
   "source": []
  }
 ],
 "metadata": {
  "kernelspec": {
   "display_name": "Python 3",
   "language": "python",
   "name": "python3"
  },
  "language_info": {
   "codemirror_mode": {
    "name": "ipython",
    "version": 3
   },
   "file_extension": ".py",
   "mimetype": "text/x-python",
   "name": "python",
   "nbconvert_exporter": "python",
   "pygments_lexer": "ipython3",
   "version": "3.8.16"
  }
 },
 "nbformat": 4,
 "nbformat_minor": 5
}
