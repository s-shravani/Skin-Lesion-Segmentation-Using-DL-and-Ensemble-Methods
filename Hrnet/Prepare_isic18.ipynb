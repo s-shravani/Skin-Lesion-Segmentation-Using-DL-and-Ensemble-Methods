{
 "cells": [
  {
   "cell_type": "code",
   "execution_count": null,
   "id": "f71dcb13-14af-489c-bf68-47f5863b865b",
   "metadata": {},
   "outputs": [],
   "source": [
    "from __future__ import division\n",
    "import numpy as np\n",
    "import scipy.ndimage as ndimage\n",
    "import imageio\n",
    "import glob\n"
   ]
  },
  {
   "cell_type": "code",
   "execution_count": null,
   "id": "c39d78f5-9136-4046-a8d4-f06188848e40",
   "metadata": {},
   "outputs": [],
   "source": [
    "# Parameters\n",
    "height = 256\n",
    "width = 256\n",
    "channels = 3\n"
   ]
  },
  {
   "cell_type": "markdown",
   "id": "5ac540be-a950-4cd6-b2b5-c5d61af573f4",
   "metadata": {},
   "source": [
    "### make sure you have a correct path of dataset "
   ]
  },
  {
   "cell_type": "code",
   "execution_count": null,
   "id": "f9ec4b76-e183-48c6-b7c1-c55769812f1c",
   "metadata": {},
   "outputs": [],
   "source": [
    "\n",
    "# Dataset directory\n",
    "Dataset_add = '/Users/shravanisajekar/Desktop/dataset'  # Updated dataset directory\n",
    "Tr_add = 'ISIC2018_Task1-2_Training_Input'\n",
    "\n",
    "Tr_list = glob.glob(Dataset_add + Tr_add + '/*.jpg')\n",
    "# It contains 2594 training samples\n",
    "\n",
    "# Limiting to 10 images\n",
    "Tr_list = Tr_list[:10]\n",
    "\n",
    "Data_train_2018 = np.zeros([len(Tr_list), height, width, channels])\n",
    "Label_train_2018 = np.zeros([len(Tr_list), height, width])\n",
    "\n",
    "print('Reading ISIC 2018')"
   ]
  },
  {
   "cell_type": "code",
   "execution_count": null,
   "id": "15bae8d9-d7f2-429c-ad85-67daa5297ac2",
   "metadata": {},
   "outputs": [],
   "source": [
    "for idx, img_path in enumerate(Tr_list):\n",
    "    print(idx + 1)\n",
    "    img = imageio.imread(img_path)\n",
    "    img = np.double(ndimage.zoom(img, (height / img.shape[0], width / img.shape[1], 1), order=3))\n",
    "    Data_train_2018[idx, :, :, :] = img\n",
    "\n",
    "    b = img_path\n",
    "    a = b[0:len(Dataset_add)]\n",
    "    b = b[len(b) - 16: len(b) - 4]\n",
    "    add = (a + 'ISIC2018_Task1_Training_GroundTruth/' + b + '_segmentation.png')\n",
    "    img2 = imageio.imread(add)\n",
    "    img2 = np.double(ndimage.zoom(img2, (height / img2.shape[0], width / img2.shape[1]), order=3))\n",
    "    Label_train_2018[idx, :, :] = img2\n",
    "\n",
    "print('Reading ISIC 2018 finished')"
   ]
  },
  {
   "cell_type": "code",
   "execution_count": null,
   "id": "e8edf669-7d61-4602-9b28-6f10957e18f0",
   "metadata": {},
   "outputs": [],
   "source": [
    "# Make train and test sets\n",
    "Train_img = Data_train_2018[:7, :, :, :]  # Use 7 images for training\n",
    "Validation_img = Data_train_2018[7:9, :, :, :]  # Use 2 images for validation\n",
    "Test_img = Data_train_2018[9:, :, :, :]  # Use 1 image for testing\n",
    "\n",
    "Train_mask = Label_train_2018[:7, :, :]\n",
    "Validation_mask = Label_train_2018[7:9, :, :]\n",
    "Test_mask = Label_train_2018[9:, :, :]\n",
    "\n",
    "np.save('data_train', Train_img)\n",
    "np.save('data_test', Test_img)\n",
    "np.save('data_val', Validation_img)\n",
    "\n",
    "np.save('mask_train', Train_mask)\n",
    "np.save('mask_test', Test_mask)\n",
    "np.save('mask_val', Validation_mask)\n"
   ]
  }
 ],
 "metadata": {
  "kernelspec": {
   "display_name": "Python 3",
   "language": "python",
   "name": "python3"
  },
  "language_info": {
   "codemirror_mode": {
    "name": "ipython",
    "version": 3
   },
   "file_extension": ".py",
   "mimetype": "text/x-python",
   "name": "python",
   "nbconvert_exporter": "python",
   "pygments_lexer": "ipython3",
   "version": "3.8.16"
  }
 },
 "nbformat": 4,
 "nbformat_minor": 5
}
